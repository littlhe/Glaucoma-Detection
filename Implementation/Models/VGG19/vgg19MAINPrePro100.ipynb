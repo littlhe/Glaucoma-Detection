{
  "nbformat": 4,
  "nbformat_minor": 0,
  "metadata": {
    "colab": {
      "name": "vgg19MAINPrePro100.ipynb",
      "provenance": [],
      "collapsed_sections": []
    },
    "kernelspec": {
      "name": "python3",
      "display_name": "Python 3"
    },
    "language_info": {
      "name": "python"
    }
  },
  "cells": [
    {
      "cell_type": "code",
      "execution_count": null,
      "metadata": {
        "id": "H3NMeW8yVgzi"
      },
      "outputs": [],
      "source": [
        " #Importing libraries\n",
        "import keras\n",
        "from keras.models import Sequential  \n",
        "from keras.layers import Dense, Conv2D, MaxPool2D , Flatten,Dropout #Importing Layers for vgg16 to be used in vgg19\n",
        "from keras.preprocessing.image import ImageDataGenerator\n",
        "import numpy as np\n",
        "from tensorflow.keras.optimizers import Adam\n",
        "\n",
        "from matplotlib import pyplot as plt"
      ]
    },
    {
      "cell_type": "code",
      "source": [
        "#Path of Train,testing and validation directories and saving them in variables.\n",
        "train_data_dir = r\"/content/drive/MyDrive/prepro/clahee/train\"   #Train Path\n",
        "valid_data_dir = r\"/content/drive/MyDrive/prepro/clahee/test\"     #Validation Path\n",
        "test_data_dir = r\"/content/drive/MyDrive/prepro/clahee/valid\"     #Testing Path"
      ],
      "metadata": {
        "id": "dF4CcmvVWNe7"
      },
      "execution_count": null,
      "outputs": []
    },
    {
      "cell_type": "code",
      "source": [
        "datagen = ImageDataGenerator(rescale=1.0/255)\n",
        "datagentrain = ImageDataGenerator(rescale=1.0/255,horizontal_flip=True,rotation_range=90)\n",
        "\n",
        "train_batches = datagentrain.flow_from_directory(directory=train_data_dir, target_size=(224,224), batch_size=20,shuffle=True)   #1500 images , 1500/32 = 47(Steps per Epoch)\n",
        "valid_batches = datagen.flow_from_directory(directory=valid_data_dir, target_size=(224,224), batch_size=20)\n",
        "test_batches = datagen.flow_from_directory(directory=test_data_dir, target_size=(224,224), batch_size=20)"
      ],
      "metadata": {
        "colab": {
          "base_uri": "https://localhost:8080/"
        },
        "id": "OHdsGKVXWeXD",
        "outputId": "6f5c1605-02c3-4e4b-f2e1-e350d95c2b18"
      },
      "execution_count": null,
      "outputs": [
        {
          "output_type": "stream",
          "name": "stdout",
          "text": [
            "Found 49 images belonging to 2 classes.\n",
            "Found 31 images belonging to 2 classes.\n",
            "Found 21 images belonging to 2 classes.\n"
          ]
        }
      ]
    },
    {
      "cell_type": "code",
      "source": [
        "#---------------------------------------------------------------------------------------\n",
        "# add preprocessing layer to the front of VGG\n",
        "#include_top=False argument is to load a network that doesn't include the classification layers at the top\n",
        "#vgg = VGG16(include_top=False, weights=None, input_shape= (224,224,3))\n",
        "#---------------------------------------------------------------------------------------------------------\n",
        "\n",
        "\n",
        "#Here we are manually adding layers OR we could have used above 'commented' code for adding layers and using only 4 layers\n",
        "#Extra 19 layers have been added\n",
        "model = Sequential()   #Sequential model means that all the layers of the model will be arranged in sequence\n",
        "\n",
        "model.add(Conv2D(input_shape=(224,224,3),filters=64,kernel_size=(3,3),padding=\"same\", activation=\"relu\"))\n",
        "\n",
        "model.add(Conv2D(filters=64,kernel_size=(3,3),padding=\"same\", activation=\"relu\"))\n",
        "\n",
        "model.add(MaxPool2D(pool_size=(2,2),strides=(2,2)))\n",
        "\n",
        "model.add(Conv2D(filters=128, kernel_size=(3,3), padding=\"same\", activation=\"relu\"))\n",
        "\n",
        "model.add(Conv2D(filters=128, kernel_size=(3,3), padding=\"same\", activation=\"relu\"))\n",
        "\n",
        "model.add(MaxPool2D(pool_size=(2,2),strides=(2,2)))\n",
        "\n",
        "model.add(Conv2D(filters=256, kernel_size=(3,3), padding=\"same\", activation=\"relu\"))\n",
        "\n",
        "model.add(Conv2D(filters=256, kernel_size=(3,3), padding=\"same\", activation=\"relu\"))\n",
        "\n",
        "model.add(Conv2D(filters=256, kernel_size=(3,3), padding=\"same\", activation=\"relu\"))\n",
        "\n",
        "model.add(Conv2D(filters=256, kernel_size=(3,3), padding=\"same\", activation=\"relu\"))\n",
        "\n",
        "model.add(MaxPool2D(pool_size=(2,2),strides=(2,2)))\n",
        "\n",
        "model.add(Conv2D(filters=512, kernel_size=(3,3), padding=\"same\", activation=\"relu\"))\n",
        "\n",
        "model.add(Conv2D(filters=512, kernel_size=(3,3), padding=\"same\", activation=\"relu\"))\n",
        "\n",
        "model.add(Conv2D(filters=512, kernel_size=(3,3), padding=\"same\", activation=\"relu\"))\n",
        "\n",
        "model.add(Conv2D(filters=512, kernel_size=(3,3), padding=\"same\", activation=\"relu\"))\n",
        "\n",
        "model.add(MaxPool2D(pool_size=(2,2),strides=(2,2)))\n",
        "\n",
        "model.add(Conv2D(filters=512, kernel_size=(3,3), padding=\"same\", activation=\"relu\"))\n",
        "\n",
        "model.add(Conv2D(filters=512, kernel_size=(3,3), padding=\"same\", activation=\"relu\"))\n",
        "\n",
        "model.add(Conv2D(filters=512, kernel_size=(3,3), padding=\"same\", activation=\"relu\"))\n",
        "\n",
        "model.add(Conv2D(filters=512, kernel_size=(3,3), padding=\"same\", activation=\"relu\"))\n",
        "\n",
        "model.add(MaxPool2D(pool_size=(2,2),strides=(2,2)))\n",
        "\n",
        "model.add(Flatten())\n",
        "model.add(Dense(units=4096,activation=\"relu\"))\n",
        "model.add(Dropout(rate = 0.2))\n",
        "model.add(Dense(units=4096,activation=\"relu\"))\n",
        "model.add(Dropout(rate = 0.2))\n",
        "model.add(Dense(units=2, activation=\"softmax\")) #units = '2' because we have are working on 2 classes"
      ],
      "metadata": {
        "id": "iT5TTGJLY16J"
      },
      "execution_count": null,
      "outputs": []
    },
    {
      "cell_type": "code",
      "source": [
        "model.summary()"
      ],
      "metadata": {
        "colab": {
          "base_uri": "https://localhost:8080/"
        },
        "id": "ywmIXcYFY5A0",
        "outputId": "29b52778-2b73-4c2b-8970-368171d653b6"
      },
      "execution_count": null,
      "outputs": [
        {
          "output_type": "stream",
          "name": "stdout",
          "text": [
            "Model: \"sequential_2\"\n",
            "_________________________________________________________________\n",
            " Layer (type)                Output Shape              Param #   \n",
            "=================================================================\n",
            " conv2d_32 (Conv2D)          (None, 224, 224, 64)      1792      \n",
            "                                                                 \n",
            " conv2d_33 (Conv2D)          (None, 224, 224, 64)      36928     \n",
            "                                                                 \n",
            " max_pooling2d_10 (MaxPoolin  (None, 112, 112, 64)     0         \n",
            " g2D)                                                            \n",
            "                                                                 \n",
            " conv2d_34 (Conv2D)          (None, 112, 112, 128)     73856     \n",
            "                                                                 \n",
            " conv2d_35 (Conv2D)          (None, 112, 112, 128)     147584    \n",
            "                                                                 \n",
            " max_pooling2d_11 (MaxPoolin  (None, 56, 56, 128)      0         \n",
            " g2D)                                                            \n",
            "                                                                 \n",
            " conv2d_36 (Conv2D)          (None, 56, 56, 256)       295168    \n",
            "                                                                 \n",
            " conv2d_37 (Conv2D)          (None, 56, 56, 256)       590080    \n",
            "                                                                 \n",
            " conv2d_38 (Conv2D)          (None, 56, 56, 256)       590080    \n",
            "                                                                 \n",
            " conv2d_39 (Conv2D)          (None, 56, 56, 256)       590080    \n",
            "                                                                 \n",
            " max_pooling2d_12 (MaxPoolin  (None, 28, 28, 256)      0         \n",
            " g2D)                                                            \n",
            "                                                                 \n",
            " conv2d_40 (Conv2D)          (None, 28, 28, 512)       1180160   \n",
            "                                                                 \n",
            " conv2d_41 (Conv2D)          (None, 28, 28, 512)       2359808   \n",
            "                                                                 \n",
            " conv2d_42 (Conv2D)          (None, 28, 28, 512)       2359808   \n",
            "                                                                 \n",
            " conv2d_43 (Conv2D)          (None, 28, 28, 512)       2359808   \n",
            "                                                                 \n",
            " max_pooling2d_13 (MaxPoolin  (None, 14, 14, 512)      0         \n",
            " g2D)                                                            \n",
            "                                                                 \n",
            " conv2d_44 (Conv2D)          (None, 14, 14, 512)       2359808   \n",
            "                                                                 \n",
            " conv2d_45 (Conv2D)          (None, 14, 14, 512)       2359808   \n",
            "                                                                 \n",
            " conv2d_46 (Conv2D)          (None, 14, 14, 512)       2359808   \n",
            "                                                                 \n",
            " conv2d_47 (Conv2D)          (None, 14, 14, 512)       2359808   \n",
            "                                                                 \n",
            " max_pooling2d_14 (MaxPoolin  (None, 7, 7, 512)        0         \n",
            " g2D)                                                            \n",
            "                                                                 \n",
            " flatten_2 (Flatten)         (None, 25088)             0         \n",
            "                                                                 \n",
            " dense_6 (Dense)             (None, 4096)              102764544 \n",
            "                                                                 \n",
            " dropout_4 (Dropout)         (None, 4096)              0         \n",
            "                                                                 \n",
            " dense_7 (Dense)             (None, 4096)              16781312  \n",
            "                                                                 \n",
            " dropout_5 (Dropout)         (None, 4096)              0         \n",
            "                                                                 \n",
            " dense_8 (Dense)             (None, 2)                 8194      \n",
            "                                                                 \n",
            "=================================================================\n",
            "Total params: 139,578,434\n",
            "Trainable params: 139,578,434\n",
            "Non-trainable params: 0\n",
            "_________________________________________________________________\n"
          ]
        }
      ]
    },
    {
      "cell_type": "code",
      "source": [
        "# Mentioning the model what cost and optimization method to use\n",
        "model.compile(optimizer=Adam(learning_rate=1e-5),loss=\"binary_crossentropy\",metrics=[\"accuracy\"])"
      ],
      "metadata": {
        "id": "k6ONbg_4Y7lK"
      },
      "execution_count": null,
      "outputs": []
    },
    {
      "cell_type": "code",
      "source": [
        "history=model.fit_generator(generator=train_batches,validation_data=test_batches,validation_steps=len(test_batches),steps_per_epoch=1,epochs=100,verbose=1)"
      ],
      "metadata": {
        "colab": {
          "base_uri": "https://localhost:8080/"
        },
        "id": "kBMA-znpY9eb",
        "outputId": "371f38d2-939d-430e-db27-9e299378f0ae"
      },
      "execution_count": null,
      "outputs": [
        {
          "output_type": "stream",
          "name": "stderr",
          "text": [
            "/usr/local/lib/python3.7/dist-packages/ipykernel_launcher.py:1: UserWarning: `Model.fit_generator` is deprecated and will be removed in a future version. Please use `Model.fit`, which supports generators.\n",
            "  \"\"\"Entry point for launching an IPython kernel.\n"
          ]
        },
        {
          "output_type": "stream",
          "name": "stdout",
          "text": [
            "Epoch 1/100\n",
            "1/1 [==============================] - 40s 40s/step - loss: 0.6932 - accuracy: 0.3333 - val_loss: 0.6931 - val_accuracy: 0.6190\n",
            "Epoch 2/100\n",
            "1/1 [==============================] - 35s 35s/step - loss: 0.6930 - accuracy: 1.0000 - val_loss: 0.6930 - val_accuracy: 0.6190\n",
            "Epoch 3/100\n",
            "1/1 [==============================] - 62s 62s/step - loss: 0.6931 - accuracy: 0.5500 - val_loss: 0.6929 - val_accuracy: 0.6190\n",
            "Epoch 4/100\n",
            "1/1 [==============================] - 35s 35s/step - loss: 0.6928 - accuracy: 0.6667 - val_loss: 0.6928 - val_accuracy: 0.6190\n",
            "Epoch 5/100\n",
            "1/1 [==============================] - 61s 61s/step - loss: 0.6926 - accuracy: 0.7500 - val_loss: 0.6928 - val_accuracy: 0.6190\n",
            "Epoch 6/100\n",
            "1/1 [==============================] - 63s 63s/step - loss: 0.6925 - accuracy: 0.7000 - val_loss: 0.6926 - val_accuracy: 0.6190\n",
            "Epoch 7/100\n",
            "1/1 [==============================] - 37s 37s/step - loss: 0.6925 - accuracy: 0.6667 - val_loss: 0.6925 - val_accuracy: 0.6190\n",
            "Epoch 8/100\n",
            "1/1 [==============================] - 38s 38s/step - loss: 0.6923 - accuracy: 0.6667 - val_loss: 0.6924 - val_accuracy: 0.6190\n",
            "Epoch 9/100\n",
            "1/1 [==============================] - 66s 66s/step - loss: 0.6919 - accuracy: 0.7000 - val_loss: 0.6922 - val_accuracy: 0.6190\n",
            "Epoch 10/100\n",
            "1/1 [==============================] - 64s 64s/step - loss: 0.6916 - accuracy: 0.7000 - val_loss: 0.6920 - val_accuracy: 0.6190\n",
            "Epoch 11/100\n",
            "1/1 [==============================] - 71s 71s/step - loss: 0.6902 - accuracy: 0.8000 - val_loss: 0.6917 - val_accuracy: 0.6190\n",
            "Epoch 12/100\n",
            "1/1 [==============================] - 68s 68s/step - loss: 0.6912 - accuracy: 0.6500 - val_loss: 0.6913 - val_accuracy: 0.6190\n",
            "Epoch 13/100\n",
            "1/1 [==============================] - 66s 66s/step - loss: 0.6910 - accuracy: 0.6500 - val_loss: 0.6908 - val_accuracy: 0.6190\n",
            "Epoch 14/100\n",
            "1/1 [==============================] - 66s 66s/step - loss: 0.6886 - accuracy: 0.7500 - val_loss: 0.6902 - val_accuracy: 0.6190\n",
            "Epoch 15/100\n",
            "1/1 [==============================] - 40s 40s/step - loss: 0.6806 - accuracy: 1.0000 - val_loss: 0.6894 - val_accuracy: 0.6190\n",
            "Epoch 16/100\n",
            "1/1 [==============================] - 68s 68s/step - loss: 0.6871 - accuracy: 0.7000 - val_loss: 0.6885 - val_accuracy: 0.6190\n",
            "Epoch 17/100\n",
            "1/1 [==============================] - 67s 67s/step - loss: 0.6910 - accuracy: 0.5500 - val_loss: 0.6874 - val_accuracy: 0.6190\n",
            "Epoch 18/100\n",
            "1/1 [==============================] - 41s 41s/step - loss: 0.6793 - accuracy: 0.7778 - val_loss: 0.6860 - val_accuracy: 0.6190\n",
            "Epoch 19/100\n",
            "1/1 [==============================] - 39s 39s/step - loss: 0.6831 - accuracy: 0.6667 - val_loss: 0.6843 - val_accuracy: 0.6190\n",
            "Epoch 20/100\n",
            "1/1 [==============================] - 69s 69s/step - loss: 0.6773 - accuracy: 0.7000 - val_loss: 0.6822 - val_accuracy: 0.6190\n",
            "Epoch 21/100\n",
            "1/1 [==============================] - 78s 78s/step - loss: 0.6843 - accuracy: 0.6000 - val_loss: 0.6799 - val_accuracy: 0.6190\n",
            "Epoch 22/100\n",
            "1/1 [==============================] - 44s 44s/step - loss: 0.6701 - accuracy: 0.6667 - val_loss: 0.6773 - val_accuracy: 0.6190\n",
            "Epoch 23/100\n",
            "1/1 [==============================] - 71s 71s/step - loss: 0.6524 - accuracy: 0.7500 - val_loss: 0.6747 - val_accuracy: 0.6190\n",
            "Epoch 24/100\n",
            "1/1 [==============================] - 66s 66s/step - loss: 0.6659 - accuracy: 0.6500 - val_loss: 0.6727 - val_accuracy: 0.6190\n",
            "Epoch 25/100\n",
            "1/1 [==============================] - 69s 69s/step - loss: 0.6923 - accuracy: 0.5500 - val_loss: 0.6720 - val_accuracy: 0.6190\n",
            "Epoch 26/100\n",
            "1/1 [==============================] - 67s 67s/step - loss: 0.6555 - accuracy: 0.6500 - val_loss: 0.6731 - val_accuracy: 0.6190\n",
            "Epoch 27/100\n",
            "1/1 [==============================] - 68s 68s/step - loss: 0.6008 - accuracy: 0.7500 - val_loss: 0.6778 - val_accuracy: 0.6190\n",
            "Epoch 28/100\n",
            "1/1 [==============================] - 39s 39s/step - loss: 0.4462 - accuracy: 1.0000 - val_loss: 0.6878 - val_accuracy: 0.6190\n",
            "Epoch 29/100\n",
            "1/1 [==============================] - 38s 38s/step - loss: 0.6405 - accuracy: 0.6667 - val_loss: 0.7033 - val_accuracy: 0.6190\n",
            "Epoch 30/100\n",
            "1/1 [==============================] - 38s 38s/step - loss: 0.7492 - accuracy: 0.5556 - val_loss: 0.7122 - val_accuracy: 0.6190\n",
            "Epoch 31/100\n",
            "1/1 [==============================] - 44s 44s/step - loss: 0.6473 - accuracy: 0.6667 - val_loss: 0.7177 - val_accuracy: 0.6190\n",
            "Epoch 32/100\n",
            "1/1 [==============================] - 67s 67s/step - loss: 0.6654 - accuracy: 0.6500 - val_loss: 0.7177 - val_accuracy: 0.6190\n",
            "Epoch 33/100\n",
            "1/1 [==============================] - 67s 67s/step - loss: 0.5641 - accuracy: 0.7500 - val_loss: 0.7196 - val_accuracy: 0.6190\n",
            "Epoch 34/100\n",
            "1/1 [==============================] - 65s 65s/step - loss: 0.6268 - accuracy: 0.7000 - val_loss: 0.7187 - val_accuracy: 0.6190\n",
            "Epoch 35/100\n",
            "1/1 [==============================] - 67s 67s/step - loss: 0.6675 - accuracy: 0.6500 - val_loss: 0.7128 - val_accuracy: 0.6190\n",
            "Epoch 36/100\n",
            "1/1 [==============================] - 65s 65s/step - loss: 0.5331 - accuracy: 0.8000 - val_loss: 0.7115 - val_accuracy: 0.6190\n",
            "Epoch 37/100\n",
            "1/1 [==============================] - 65s 65s/step - loss: 0.6219 - accuracy: 0.7000 - val_loss: 0.7086 - val_accuracy: 0.6190\n",
            "Epoch 38/100\n",
            "1/1 [==============================] - 67s 67s/step - loss: 0.6194 - accuracy: 0.7000 - val_loss: 0.7048 - val_accuracy: 0.6190\n",
            "Epoch 39/100\n",
            "1/1 [==============================] - 64s 64s/step - loss: 0.5311 - accuracy: 0.8000 - val_loss: 0.7054 - val_accuracy: 0.6190\n",
            "Epoch 40/100\n",
            "1/1 [==============================] - 71s 71s/step - loss: 0.5742 - accuracy: 0.7500 - val_loss: 0.7074 - val_accuracy: 0.6190\n",
            "Epoch 41/100\n",
            "1/1 [==============================] - 64s 64s/step - loss: 0.6591 - accuracy: 0.6500 - val_loss: 0.7062 - val_accuracy: 0.6190\n",
            "Epoch 42/100\n",
            "1/1 [==============================] - 39s 39s/step - loss: 0.6369 - accuracy: 0.6667 - val_loss: 0.7032 - val_accuracy: 0.6190\n",
            "Epoch 43/100\n",
            "1/1 [==============================] - 66s 66s/step - loss: 0.6178 - accuracy: 0.7000 - val_loss: 0.6999 - val_accuracy: 0.6190\n",
            "Epoch 44/100\n",
            "1/1 [==============================] - 67s 67s/step - loss: 0.6899 - accuracy: 0.6000 - val_loss: 0.6939 - val_accuracy: 0.6190\n",
            "Epoch 45/100\n",
            "1/1 [==============================] - 65s 65s/step - loss: 0.7049 - accuracy: 0.6000 - val_loss: 0.6866 - val_accuracy: 0.6190\n",
            "Epoch 46/100\n",
            "1/1 [==============================] - 38s 38s/step - loss: 0.6339 - accuracy: 0.6667 - val_loss: 0.6814 - val_accuracy: 0.6190\n",
            "Epoch 47/100\n",
            "1/1 [==============================] - 69s 69s/step - loss: 0.6546 - accuracy: 0.6500 - val_loss: 0.6775 - val_accuracy: 0.6190\n",
            "Epoch 48/100\n",
            "1/1 [==============================] - 38s 38s/step - loss: 0.5570 - accuracy: 0.7778 - val_loss: 0.6762 - val_accuracy: 0.6190\n",
            "Epoch 49/100\n",
            "1/1 [==============================] - 69s 69s/step - loss: 0.5656 - accuracy: 0.8000 - val_loss: 0.6764 - val_accuracy: 0.6190\n",
            "Epoch 50/100\n",
            "1/1 [==============================] - 66s 66s/step - loss: 0.6744 - accuracy: 0.6000 - val_loss: 0.6762 - val_accuracy: 0.6190\n",
            "Epoch 51/100\n",
            "1/1 [==============================] - 65s 65s/step - loss: 0.6702 - accuracy: 0.6000 - val_loss: 0.6756 - val_accuracy: 0.6190\n",
            "Epoch 52/100\n",
            "1/1 [==============================] - 40s 40s/step - loss: 0.7188 - accuracy: 0.5556 - val_loss: 0.6742 - val_accuracy: 0.6190\n",
            "Epoch 53/100\n",
            "1/1 [==============================] - 63s 63s/step - loss: 0.5106 - accuracy: 0.9000 - val_loss: 0.6748 - val_accuracy: 0.6190\n",
            "Epoch 54/100\n",
            "1/1 [==============================] - 65s 65s/step - loss: 0.6182 - accuracy: 0.7000 - val_loss: 0.6758 - val_accuracy: 0.6190\n",
            "Epoch 55/100\n",
            "1/1 [==============================] - 64s 64s/step - loss: 0.5838 - accuracy: 0.7500 - val_loss: 0.6781 - val_accuracy: 0.6190\n",
            "Epoch 56/100\n",
            "1/1 [==============================] - 65s 65s/step - loss: 0.6533 - accuracy: 0.6500 - val_loss: 0.6803 - val_accuracy: 0.6190\n",
            "Epoch 57/100\n",
            "1/1 [==============================] - 62s 62s/step - loss: 0.5802 - accuracy: 0.7500 - val_loss: 0.6843 - val_accuracy: 0.6190\n",
            "Epoch 58/100\n",
            "1/1 [==============================] - 63s 63s/step - loss: 0.6570 - accuracy: 0.6500 - val_loss: 0.6880 - val_accuracy: 0.6190\n",
            "Epoch 59/100\n",
            "1/1 [==============================] - 67s 67s/step - loss: 0.6847 - accuracy: 0.6000 - val_loss: 0.6896 - val_accuracy: 0.6190\n",
            "Epoch 60/100\n",
            "1/1 [==============================] - 69s 69s/step - loss: 0.6578 - accuracy: 0.6500 - val_loss: 0.6897 - val_accuracy: 0.6190\n",
            "Epoch 61/100\n",
            "1/1 [==============================] - 39s 39s/step - loss: 0.5358 - accuracy: 0.7778 - val_loss: 0.6933 - val_accuracy: 0.6190\n",
            "Epoch 62/100\n",
            "1/1 [==============================] - 64s 64s/step - loss: 0.6167 - accuracy: 0.7000 - val_loss: 0.6968 - val_accuracy: 0.6190\n",
            "Epoch 63/100\n",
            "1/1 [==============================] - 68s 68s/step - loss: 0.5640 - accuracy: 0.7500 - val_loss: 0.7024 - val_accuracy: 0.6190\n",
            "Epoch 64/100\n",
            "1/1 [==============================] - 38s 38s/step - loss: 0.4405 - accuracy: 0.8889 - val_loss: 0.7166 - val_accuracy: 0.6190\n",
            "Epoch 65/100\n",
            "1/1 [==============================] - 67s 67s/step - loss: 0.6180 - accuracy: 0.7000 - val_loss: 0.7300 - val_accuracy: 0.6190\n",
            "Epoch 66/100\n",
            "1/1 [==============================] - 40s 40s/step - loss: 0.6711 - accuracy: 0.6667 - val_loss: 0.7353 - val_accuracy: 0.6190\n",
            "Epoch 67/100\n",
            "1/1 [==============================] - 66s 66s/step - loss: 0.5474 - accuracy: 0.7500 - val_loss: 0.7416 - val_accuracy: 0.6190\n",
            "Epoch 68/100\n",
            "1/1 [==============================] - 68s 68s/step - loss: 0.5544 - accuracy: 0.7500 - val_loss: 0.7480 - val_accuracy: 0.6190\n",
            "Epoch 69/100\n",
            "1/1 [==============================] - 70s 70s/step - loss: 0.5166 - accuracy: 0.8000 - val_loss: 0.7562 - val_accuracy: 0.6190\n",
            "Epoch 70/100\n",
            "1/1 [==============================] - 69s 69s/step - loss: 0.7505 - accuracy: 0.6000 - val_loss: 0.7443 - val_accuracy: 0.6190\n",
            "Epoch 71/100\n",
            "1/1 [==============================] - 66s 66s/step - loss: 0.7014 - accuracy: 0.6500 - val_loss: 0.7246 - val_accuracy: 0.6190\n",
            "Epoch 72/100\n",
            "1/1 [==============================] - 41s 41s/step - loss: 0.5285 - accuracy: 0.7778 - val_loss: 0.7119 - val_accuracy: 0.6190\n",
            "Epoch 73/100\n",
            "1/1 [==============================] - 66s 66s/step - loss: 0.5820 - accuracy: 0.7500 - val_loss: 0.7025 - val_accuracy: 0.6190\n",
            "Epoch 74/100\n",
            "1/1 [==============================] - 38s 38s/step - loss: 0.7533 - accuracy: 0.5556 - val_loss: 0.6907 - val_accuracy: 0.6190\n",
            "Epoch 75/100\n",
            "1/1 [==============================] - 39s 39s/step - loss: 0.5549 - accuracy: 0.7778 - val_loss: 0.6844 - val_accuracy: 0.6190\n",
            "Epoch 76/100\n",
            "1/1 [==============================] - 64s 64s/step - loss: 0.6486 - accuracy: 0.6500 - val_loss: 0.6794 - val_accuracy: 0.6190\n",
            "Epoch 77/100\n",
            "1/1 [==============================] - 63s 63s/step - loss: 0.5786 - accuracy: 0.7500 - val_loss: 0.6768 - val_accuracy: 0.6190\n",
            "Epoch 78/100\n",
            "1/1 [==============================] - 63s 63s/step - loss: 0.5855 - accuracy: 0.7500 - val_loss: 0.6755 - val_accuracy: 0.6190\n",
            "Epoch 79/100\n",
            "1/1 [==============================] - 78s 78s/step - loss: 0.6167 - accuracy: 0.7000 - val_loss: 0.6749 - val_accuracy: 0.6190\n",
            "Epoch 80/100\n",
            "1/1 [==============================] - 68s 68s/step - loss: 0.5228 - accuracy: 0.8500 - val_loss: 0.6760 - val_accuracy: 0.6190\n",
            "Epoch 81/100\n",
            "1/1 [==============================] - 66s 66s/step - loss: 0.5374 - accuracy: 0.8000 - val_loss: 0.6789 - val_accuracy: 0.6190\n",
            "Epoch 82/100\n",
            "1/1 [==============================] - 70s 70s/step - loss: 0.5375 - accuracy: 0.8000 - val_loss: 0.6844 - val_accuracy: 0.6190\n",
            "Epoch 83/100\n",
            "1/1 [==============================] - 66s 66s/step - loss: 0.6049 - accuracy: 0.7000 - val_loss: 0.6914 - val_accuracy: 0.6190\n",
            "Epoch 84/100\n",
            "1/1 [==============================] - 69s 69s/step - loss: 0.6489 - accuracy: 0.6500 - val_loss: 0.6979 - val_accuracy: 0.6190\n",
            "Epoch 85/100\n",
            "1/1 [==============================] - 39s 39s/step - loss: 0.4311 - accuracy: 0.8889 - val_loss: 0.7117 - val_accuracy: 0.6190\n",
            "Epoch 86/100\n",
            "1/1 [==============================] - 41s 41s/step - loss: 0.7484 - accuracy: 0.5556 - val_loss: 0.7177 - val_accuracy: 0.6190\n",
            "Epoch 87/100\n",
            "1/1 [==============================] - 38s 38s/step - loss: 0.6259 - accuracy: 0.6667 - val_loss: 0.7217 - val_accuracy: 0.6190\n",
            "Epoch 88/100\n",
            "1/1 [==============================] - 69s 69s/step - loss: 0.6525 - accuracy: 0.6500 - val_loss: 0.7212 - val_accuracy: 0.6190\n",
            "Epoch 89/100\n",
            "1/1 [==============================] - 69s 69s/step - loss: 0.6674 - accuracy: 0.6500 - val_loss: 0.7160 - val_accuracy: 0.6190\n",
            "Epoch 90/100\n",
            "1/1 [==============================] - 38s 38s/step - loss: 0.7576 - accuracy: 0.5556 - val_loss: 0.7044 - val_accuracy: 0.6190\n",
            "Epoch 91/100\n",
            "1/1 [==============================] - 65s 65s/step - loss: 0.7130 - accuracy: 0.6000 - val_loss: 0.6923 - val_accuracy: 0.6190\n",
            "Epoch 92/100\n",
            "1/1 [==============================] - 70s 70s/step - loss: 0.5675 - accuracy: 0.7500 - val_loss: 0.6851 - val_accuracy: 0.6190\n",
            "Epoch 93/100\n",
            "1/1 [==============================] - 65s 65s/step - loss: 0.5234 - accuracy: 0.8000 - val_loss: 0.6818 - val_accuracy: 0.6190\n",
            "Epoch 94/100\n",
            "1/1 [==============================] - 65s 65s/step - loss: 0.6955 - accuracy: 0.6000 - val_loss: 0.6779 - val_accuracy: 0.6190\n",
            "Epoch 95/100\n",
            "1/1 [==============================] - 66s 66s/step - loss: 0.6009 - accuracy: 0.7000 - val_loss: 0.6754 - val_accuracy: 0.6190\n",
            "Epoch 96/100\n",
            "1/1 [==============================] - 40s 40s/step - loss: 0.6346 - accuracy: 0.6667 - val_loss: 0.6736 - val_accuracy: 0.6190\n",
            "Epoch 97/100\n",
            "1/1 [==============================] - 67s 67s/step - loss: 0.6550 - accuracy: 0.6500 - val_loss: 0.6720 - val_accuracy: 0.6190\n",
            "Epoch 98/100\n",
            "1/1 [==============================] - 39s 39s/step - loss: 0.4954 - accuracy: 0.8889 - val_loss: 0.6723 - val_accuracy: 0.6190\n",
            "Epoch 99/100\n",
            "1/1 [==============================] - 69s 69s/step - loss: 0.5865 - accuracy: 0.7500 - val_loss: 0.6734 - val_accuracy: 0.6190\n",
            "Epoch 100/100\n",
            "1/1 [==============================] - 39s 39s/step - loss: 0.5612 - accuracy: 0.7778 - val_loss: 0.6755 - val_accuracy: 0.6190\n"
          ]
        }
      ]
    },
    {
      "cell_type": "code",
      "source": [
        "from tensorflow.keras.models import load_model\n",
        "\n",
        "model.save(\"/content/drive/MyDrive/Drishtivgg19_updated.h5\")"
      ],
      "metadata": {
        "id": "Iu4HT4jTvwJu"
      },
      "execution_count": null,
      "outputs": []
    },
    {
      "cell_type": "code",
      "source": [
        "test_loss, test_acc = model.evaluate(test_batches, verbose=1)\n",
        "print(\"\\nTest accuracy:\", test_acc)"
      ],
      "metadata": {
        "colab": {
          "base_uri": "https://localhost:8080/"
        },
        "id": "p56Qz1VTvzgQ",
        "outputId": "59cac1ec-ffa3-415c-c02f-296ac952a3fd"
      },
      "execution_count": null,
      "outputs": [
        {
          "output_type": "stream",
          "name": "stdout",
          "text": [
            "2/2 [==============================] - 21s 750ms/step - loss: 0.6755 - accuracy: 0.6190\n",
            "\n",
            "Test accuracy: 0.6190476417541504\n"
          ]
        }
      ]
    },
    {
      "cell_type": "code",
      "source": [
        "# plot the loss\n",
        "plt.plot(history.history['loss'], label='train loss')\n",
        "plt.plot(history.history['val_loss'], label='val loss')\n",
        "plt.legend()\n",
        "plt.show()\n",
        "plt.savefig('LossVal_loss')\n",
        "\n",
        "# plot the accuracy\n",
        "plt.plot(history.history['accuracy'], label='train acc')\n",
        "plt.plot(history.history['val_accuracy'], label='val acc')\n",
        "plt.legend()\n",
        "plt.show()\n",
        "plt.savefig('AccVal_acc')"
      ],
      "metadata": {
        "colab": {
          "base_uri": "https://localhost:8080/",
          "height": 530
        },
        "id": "8_1Xx5tgv__e",
        "outputId": "456e6db9-bd8a-4bf9-e15c-50c26f0d9292"
      },
      "execution_count": null,
      "outputs": [
        {
          "output_type": "display_data",
          "data": {
            "text/plain": [
              "<Figure size 432x288 with 1 Axes>"
            ],
            "image/png": "[encoded data removed]"
          },
          "metadata": {
            "needs_background": "light"
          }
        },
        {
          "output_type": "display_data",
          "data": {
            "text/plain": [
              "<Figure size 432x288 with 1 Axes>"
            ],
            "image/png": "[encoded data removed]"
          },
          "metadata": {
            "needs_background": "light"
          }
        },
        {
          "output_type": "display_data",
          "data": {
            "text/plain": [
              "<Figure size 432x288 with 0 Axes>"
            ]
          },
          "metadata": {}
        }
      ]
    },
    {
      "cell_type": "code",
      "source": [
        "import matplotlib.pyplot as plt\n",
        "import numpy\n",
        "from sklearn import metrics\n",
        "\n",
        "actual = numpy.random.binomial(1,.9,size = 1000)\n",
        "predicted = numpy.random.binomial(1,.9,size = 1000)\n",
        "\n",
        "confusion_matrix = metrics.confusion_matrix(actual, predicted)\n",
        "\n",
        "cm_display = metrics.ConfusionMatrixDisplay(confusion_matrix = confusion_matrix, display_labels = [False, True])\n",
        "\n",
        "cm_display.plot()\n",
        "plt.show()"
      ],
      "metadata": {
        "id": "Ow2bsdFdAykW",
        "outputId": "70164561-a8ae-41b1-ef78-bb0d818f290f",
        "colab": {
          "base_uri": "https://localhost:8080/",
          "height": 283
        }
      },
      "execution_count": null,
      "outputs": [
        {
          "output_type": "display_data",
          "data": {
            "text/plain": [
              "<Figure size 432x288 with 2 Axes>"
            ],
            "image/png": "[encoded data removed]"
          },
          "metadata": {
            "needs_background": "light"
          }
        }
      ]
    }
  ]
}