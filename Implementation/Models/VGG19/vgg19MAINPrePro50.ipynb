{
  "nbformat": 4,
  "nbformat_minor": 0,
  "metadata": {
    "colab": {
      "name": "vgg19MAINPrePro50.ipynb",
      "provenance": []
    },
    "kernelspec": {
      "name": "python3",
      "display_name": "Python 3"
    },
    "language_info": {
      "name": "python"
    }
  },
  "cells": [
    {
      "cell_type": "code",
      "source": [
        " #Importing libraries\n",
        "import keras\n",
        "from keras.models import Sequential  \n",
        "from keras.layers import Dense, Conv2D, MaxPool2D , Flatten,Dropout #Importing Layers for vgg16 to be used in vgg19\n",
        "from keras.preprocessing.image import ImageDataGenerator\n",
        "import numpy as np\n",
        "from tensorflow.keras.optimizers import Adam"
      ],
      "metadata": {
        "id": "PEiCitndf7Ef"
      },
      "execution_count": null,
      "outputs": []
    },
    {
      "cell_type": "code",
      "source": [
        "#Path of Train,testing and validation directories and saving them in variables.\n",
        "train_data_dir = r\"/content/drive/MyDrive/Drishti/train\"   #Train Path\n",
        "valid_data_dir = r\"/content/drive/MyDrive/Drishti/valid\"     #Validation Path\n",
        "test_data_dir = r\"/content/drive/MyDrive/Drishti/test\"     #Testing Path"
      ],
      "metadata": {
        "id": "L6B4Nxfyf_ws"
      },
      "execution_count": null,
      "outputs": []
    },
    {
      "cell_type": "code",
      "source": [
        "datagen = ImageDataGenerator(rescale=1.0/255)\n",
        "datagentrain = ImageDataGenerator(rescale=1.0/255,horizontal_flip=True,rotation_range=90)\n",
        "\n",
        "train_batches = datagentrain.flow_from_directory(directory=train_data_dir, target_size=(224,224), batch_size=15,shuffle=True)   #1500 images , 1500/32 = 47(Steps per Epoch)\n",
        "valid_batches = datagen.flow_from_directory(directory=valid_data_dir, target_size=(224,224), batch_size=15)\n",
        "test_batches = datagen.flow_from_directory(directory=test_data_dir, target_size=(224,224), batch_size=15)"
      ],
      "metadata": {
        "colab": {
          "base_uri": "https://localhost:8080/"
        },
        "id": "TURePgfYgJWK",
        "outputId": "07be69c3-45a1-4ccc-9c5d-fed59e9e32a5"
      },
      "execution_count": null,
      "outputs": [
        {
          "output_type": "stream",
          "name": "stdout",
          "text": [
            "Found 49 images belonging to 2 classes.\n",
            "Found 21 images belonging to 2 classes.\n",
            "Found 31 images belonging to 2 classes.\n"
          ]
        }
      ]
    },
    {
      "cell_type": "code",
      "source": [
        "#---------------------------------------------------------------------------------------\n",
        "# add preprocessing layer to the front of VGG\n",
        "#include_top=False argument is to load a network that doesn't include the classification layers at the top\n",
        "#vgg = VGG16(include_top=False, weights=None, input_shape= (224,224,3))\n",
        "#---------------------------------------------------------------------------------------------------------\n",
        "\n",
        "\n",
        "#Here we are manually adding layers OR we could have used above 'commented' code for adding layers and using only 4 layers\n",
        "#Extra 19 layers have been added\n",
        "model = Sequential()   #Sequential model means that all the layers of the model will be arranged in sequence\n",
        "\n",
        "model.add(Conv2D(input_shape=(224,224,3),filters=64,kernel_size=(3,3),padding=\"same\", activation=\"relu\"))\n",
        "\n",
        "model.add(Conv2D(filters=64,kernel_size=(3,3),padding=\"same\", activation=\"relu\"))\n",
        "\n",
        "model.add(MaxPool2D(pool_size=(2,2),strides=(2,2)))\n",
        "\n",
        "model.add(Conv2D(filters=128, kernel_size=(3,3), padding=\"same\", activation=\"relu\"))\n",
        "\n",
        "model.add(Conv2D(filters=128, kernel_size=(3,3), padding=\"same\", activation=\"relu\"))\n",
        "\n",
        "model.add(MaxPool2D(pool_size=(2,2),strides=(2,2)))\n",
        "\n",
        "model.add(Conv2D(filters=256, kernel_size=(3,3), padding=\"same\", activation=\"relu\"))\n",
        "\n",
        "model.add(Conv2D(filters=256, kernel_size=(3,3), padding=\"same\", activation=\"relu\"))\n",
        "\n",
        "model.add(Conv2D(filters=256, kernel_size=(3,3), padding=\"same\", activation=\"relu\"))\n",
        "\n",
        "model.add(Conv2D(filters=256, kernel_size=(3,3), padding=\"same\", activation=\"relu\"))\n",
        "\n",
        "model.add(MaxPool2D(pool_size=(2,2),strides=(2,2)))\n",
        "\n",
        "model.add(Conv2D(filters=512, kernel_size=(3,3), padding=\"same\", activation=\"relu\"))\n",
        "\n",
        "model.add(Conv2D(filters=512, kernel_size=(3,3), padding=\"same\", activation=\"relu\"))\n",
        "\n",
        "model.add(Conv2D(filters=512, kernel_size=(3,3), padding=\"same\", activation=\"relu\"))\n",
        "\n",
        "model.add(Conv2D(filters=512, kernel_size=(3,3), padding=\"same\", activation=\"relu\"))\n",
        "\n",
        "model.add(MaxPool2D(pool_size=(2,2),strides=(2,2)))\n",
        "\n",
        "model.add(Conv2D(filters=512, kernel_size=(3,3), padding=\"same\", activation=\"relu\"))\n",
        "\n",
        "model.add(Conv2D(filters=512, kernel_size=(3,3), padding=\"same\", activation=\"relu\"))\n",
        "\n",
        "model.add(Conv2D(filters=512, kernel_size=(3,3), padding=\"same\", activation=\"relu\"))\n",
        "\n",
        "model.add(Conv2D(filters=512, kernel_size=(3,3), padding=\"same\", activation=\"relu\"))\n",
        "\n",
        "model.add(MaxPool2D(pool_size=(2,2),strides=(2,2)))\n",
        "\n",
        "model.add(Flatten())\n",
        "model.add(Dense(units=4096,activation=\"relu\"))\n",
        "model.add(Dropout(rate = 0.2))\n",
        "model.add(Dense(units=4096,activation=\"relu\"))\n",
        "model.add(Dropout(rate = 0.2))\n",
        "model.add(Dense(units=2, activation=\"softmax\")) #units = '2' because we have are working on 2 classes"
      ],
      "metadata": {
        "id": "ZGuhxv7mgYk9"
      },
      "execution_count": null,
      "outputs": []
    },
    {
      "cell_type": "code",
      "source": [
        "model.summary()"
      ],
      "metadata": {
        "colab": {
          "base_uri": "https://localhost:8080/"
        },
        "id": "OnmMbvRTgebm",
        "outputId": "b9281f95-8079-4793-d64c-5c5621e95508"
      },
      "execution_count": null,
      "outputs": [
        {
          "output_type": "stream",
          "name": "stdout",
          "text": [
            "Model: \"sequential\"\n",
            "_________________________________________________________________\n",
            " Layer (type)                Output Shape              Param #   \n",
            "=================================================================\n",
            " conv2d (Conv2D)             (None, 224, 224, 64)      1792      \n",
            "                                                                 \n",
            " conv2d_1 (Conv2D)           (None, 224, 224, 64)      36928     \n",
            "                                                                 \n",
            " max_pooling2d (MaxPooling2D  (None, 112, 112, 64)     0         \n",
            " )                                                               \n",
            "                                                                 \n",
            " conv2d_2 (Conv2D)           (None, 112, 112, 128)     73856     \n",
            "                                                                 \n",
            " conv2d_3 (Conv2D)           (None, 112, 112, 128)     147584    \n",
            "                                                                 \n",
            " max_pooling2d_1 (MaxPooling  (None, 56, 56, 128)      0         \n",
            " 2D)                                                             \n",
            "                                                                 \n",
            " conv2d_4 (Conv2D)           (None, 56, 56, 256)       295168    \n",
            "                                                                 \n",
            " conv2d_5 (Conv2D)           (None, 56, 56, 256)       590080    \n",
            "                                                                 \n",
            " conv2d_6 (Conv2D)           (None, 56, 56, 256)       590080    \n",
            "                                                                 \n",
            " conv2d_7 (Conv2D)           (None, 56, 56, 256)       590080    \n",
            "                                                                 \n",
            " max_pooling2d_2 (MaxPooling  (None, 28, 28, 256)      0         \n",
            " 2D)                                                             \n",
            "                                                                 \n",
            " conv2d_8 (Conv2D)           (None, 28, 28, 512)       1180160   \n",
            "                                                                 \n",
            " conv2d_9 (Conv2D)           (None, 28, 28, 512)       2359808   \n",
            "                                                                 \n",
            " conv2d_10 (Conv2D)          (None, 28, 28, 512)       2359808   \n",
            "                                                                 \n",
            " conv2d_11 (Conv2D)          (None, 28, 28, 512)       2359808   \n",
            "                                                                 \n",
            " max_pooling2d_3 (MaxPooling  (None, 14, 14, 512)      0         \n",
            " 2D)                                                             \n",
            "                                                                 \n",
            " conv2d_12 (Conv2D)          (None, 14, 14, 512)       2359808   \n",
            "                                                                 \n",
            " conv2d_13 (Conv2D)          (None, 14, 14, 512)       2359808   \n",
            "                                                                 \n",
            " conv2d_14 (Conv2D)          (None, 14, 14, 512)       2359808   \n",
            "                                                                 \n",
            " conv2d_15 (Conv2D)          (None, 14, 14, 512)       2359808   \n",
            "                                                                 \n",
            " max_pooling2d_4 (MaxPooling  (None, 7, 7, 512)        0         \n",
            " 2D)                                                             \n",
            "                                                                 \n",
            " flatten (Flatten)           (None, 25088)             0         \n",
            "                                                                 \n",
            " dense (Dense)               (None, 4096)              102764544 \n",
            "                                                                 \n",
            " dropout (Dropout)           (None, 4096)              0         \n",
            "                                                                 \n",
            " dense_1 (Dense)             (None, 4096)              16781312  \n",
            "                                                                 \n",
            " dropout_1 (Dropout)         (None, 4096)              0         \n",
            "                                                                 \n",
            " dense_2 (Dense)             (None, 2)                 8194      \n",
            "                                                                 \n",
            "=================================================================\n",
            "Total params: 139,578,434\n",
            "Trainable params: 139,578,434\n",
            "Non-trainable params: 0\n",
            "_________________________________________________________________\n"
          ]
        }
      ]
    },
    {
      "cell_type": "code",
      "source": [
        "# Mentioning the model what cost and optimization method to use\n",
        "model.compile(optimizer=Adam(learning_rate=1e-5),loss=\"binary_crossentropy\",metrics=[\"accuracy\"])"
      ],
      "metadata": {
        "id": "YA4GyRRoghJf"
      },
      "execution_count": null,
      "outputs": []
    },
    {
      "cell_type": "code",
      "source": [
        "history=model.fit_generator(generator=train_batches,validation_data=test_batches,validation_steps=len(test_batches),steps_per_epoch=1,epochs=50,verbose=1)"
      ],
      "metadata": {
        "colab": {
          "base_uri": "https://localhost:8080/"
        },
        "id": "K-MXqiz-j-8E",
        "outputId": "2c35ee6f-42eb-4a13-d19d-c0bddb3c0a6e"
      },
      "execution_count": null,
      "outputs": [
        {
          "output_type": "stream",
          "name": "stderr",
          "text": [
            "/usr/local/lib/python3.7/dist-packages/ipykernel_launcher.py:1: UserWarning: `Model.fit_generator` is deprecated and will be removed in a future version. Please use `Model.fit`, which supports generators.\n",
            "  \"\"\"Entry point for launching an IPython kernel.\n"
          ]
        },
        {
          "output_type": "stream",
          "name": "stdout",
          "text": [
            "Epoch 1/50\n",
            "1/1 [==============================] - 80s 80s/step - loss: 0.6931 - accuracy: 0.6000 - val_loss: 0.6930 - val_accuracy: 0.7419\n",
            "Epoch 2/50\n",
            "1/1 [==============================] - 60s 60s/step - loss: 0.6932 - accuracy: 0.4000 - val_loss: 0.6930 - val_accuracy: 0.7419\n",
            "Epoch 3/50\n",
            "1/1 [==============================] - 34s 34s/step - loss: 0.6931 - accuracy: 0.7500 - val_loss: 0.6929 - val_accuracy: 0.7419\n",
            "Epoch 4/50\n",
            "1/1 [==============================] - 57s 57s/step - loss: 0.6929 - accuracy: 0.8667 - val_loss: 0.6928 - val_accuracy: 0.7419\n",
            "Epoch 5/50\n",
            "1/1 [==============================] - 58s 58s/step - loss: 0.6929 - accuracy: 0.6667 - val_loss: 0.6926 - val_accuracy: 0.7419\n",
            "Epoch 6/50\n",
            "1/1 [==============================] - 62s 62s/step - loss: 0.6928 - accuracy: 0.6667 - val_loss: 0.6925 - val_accuracy: 0.7419\n",
            "Epoch 7/50\n",
            "1/1 [==============================] - 58s 58s/step - loss: 0.6923 - accuracy: 0.8000 - val_loss: 0.6922 - val_accuracy: 0.7419\n",
            "Epoch 8/50\n",
            "1/1 [==============================] - 59s 59s/step - loss: 0.6927 - accuracy: 0.6000 - val_loss: 0.6920 - val_accuracy: 0.7419\n",
            "Epoch 9/50\n",
            "1/1 [==============================] - 32s 32s/step - loss: 0.6910 - accuracy: 1.0000 - val_loss: 0.6916 - val_accuracy: 0.7419\n",
            "Epoch 10/50\n",
            "1/1 [==============================] - 32s 32s/step - loss: 0.6900 - accuracy: 1.0000 - val_loss: 0.6912 - val_accuracy: 0.7419\n",
            "Epoch 11/50\n",
            "1/1 [==============================] - 34s 34s/step - loss: 0.6909 - accuracy: 0.7500 - val_loss: 0.6906 - val_accuracy: 0.7419\n",
            "Epoch 12/50\n",
            "1/1 [==============================] - 33s 33s/step - loss: 0.6938 - accuracy: 0.5000 - val_loss: 0.6900 - val_accuracy: 0.7419\n",
            "Epoch 13/50\n",
            "1/1 [==============================] - 59s 59s/step - loss: 0.6890 - accuracy: 0.8000 - val_loss: 0.6893 - val_accuracy: 0.7419\n",
            "Epoch 14/50\n",
            "1/1 [==============================] - 32s 32s/step - loss: 0.6891 - accuracy: 0.7500 - val_loss: 0.6883 - val_accuracy: 0.7419\n",
            "Epoch 15/50\n",
            "1/1 [==============================] - 33s 33s/step - loss: 0.6880 - accuracy: 0.7500 - val_loss: 0.6870 - val_accuracy: 0.7419\n",
            "Epoch 16/50\n",
            "1/1 [==============================] - 32s 32s/step - loss: 0.6812 - accuracy: 1.0000 - val_loss: 0.6853 - val_accuracy: 0.7419\n",
            "Epoch 17/50\n",
            "1/1 [==============================] - 56s 56s/step - loss: 0.6758 - accuracy: 1.0000 - val_loss: 0.6831 - val_accuracy: 0.7419\n",
            "Epoch 18/50\n",
            "1/1 [==============================] - 60s 60s/step - loss: 0.6901 - accuracy: 0.6000 - val_loss: 0.6804 - val_accuracy: 0.7419\n",
            "Epoch 19/50\n",
            "1/1 [==============================] - 33s 33s/step - loss: 0.6828 - accuracy: 0.7500 - val_loss: 0.6771 - val_accuracy: 0.7419\n",
            "Epoch 20/50\n",
            "1/1 [==============================] - 57s 57s/step - loss: 0.6823 - accuracy: 0.6667 - val_loss: 0.6728 - val_accuracy: 0.7419\n",
            "Epoch 21/50\n",
            "1/1 [==============================] - 57s 57s/step - loss: 0.6795 - accuracy: 0.6667 - val_loss: 0.6674 - val_accuracy: 0.7419\n",
            "Epoch 22/50\n",
            "1/1 [==============================] - 56s 56s/step - loss: 0.6671 - accuracy: 0.7333 - val_loss: 0.6606 - val_accuracy: 0.7419\n",
            "Epoch 23/50\n",
            "1/1 [==============================] - 58s 58s/step - loss: 0.6606 - accuracy: 0.7333 - val_loss: 0.6520 - val_accuracy: 0.7419\n",
            "Epoch 24/50\n",
            "1/1 [==============================] - 32s 32s/step - loss: 0.6028 - accuracy: 1.0000 - val_loss: 0.6427 - val_accuracy: 0.7419\n",
            "Epoch 25/50\n",
            "1/1 [==============================] - 58s 58s/step - loss: 0.6770 - accuracy: 0.6000 - val_loss: 0.6330 - val_accuracy: 0.7419\n",
            "Epoch 26/50\n",
            "1/1 [==============================] - 58s 58s/step - loss: 0.6569 - accuracy: 0.6667 - val_loss: 0.6226 - val_accuracy: 0.7419\n",
            "Epoch 27/50\n",
            "1/1 [==============================] - 56s 56s/step - loss: 0.6511 - accuracy: 0.6667 - val_loss: 0.6125 - val_accuracy: 0.7419\n",
            "Epoch 28/50\n",
            "1/1 [==============================] - 59s 59s/step - loss: 0.6218 - accuracy: 0.7333 - val_loss: 0.6033 - val_accuracy: 0.7419\n",
            "Epoch 29/50\n",
            "1/1 [==============================] - 35s 35s/step - loss: 0.7212 - accuracy: 0.5000 - val_loss: 0.6003 - val_accuracy: 0.7419\n",
            "Epoch 30/50\n",
            "1/1 [==============================] - 32s 32s/step - loss: 0.5803 - accuracy: 0.7500 - val_loss: 0.5980 - val_accuracy: 0.7419\n",
            "Epoch 31/50\n",
            "1/1 [==============================] - 56s 56s/step - loss: 0.5360 - accuracy: 0.8000 - val_loss: 0.5980 - val_accuracy: 0.7419\n",
            "Epoch 32/50\n",
            "1/1 [==============================] - 59s 59s/step - loss: 0.4609 - accuracy: 0.8667 - val_loss: 0.6054 - val_accuracy: 0.7419\n",
            "Epoch 33/50\n",
            "1/1 [==============================] - 56s 56s/step - loss: 0.8250 - accuracy: 0.5333 - val_loss: 0.6060 - val_accuracy: 0.7419\n",
            "Epoch 34/50\n",
            "1/1 [==============================] - 32s 32s/step - loss: 0.8585 - accuracy: 0.5000 - val_loss: 0.6016 - val_accuracy: 0.7419\n",
            "Epoch 35/50\n",
            "1/1 [==============================] - 59s 59s/step - loss: 0.7341 - accuracy: 0.6000 - val_loss: 0.5979 - val_accuracy: 0.7419\n",
            "Epoch 36/50\n",
            "1/1 [==============================] - 56s 56s/step - loss: 0.5905 - accuracy: 0.7333 - val_loss: 0.5969 - val_accuracy: 0.7419\n",
            "Epoch 37/50\n",
            "1/1 [==============================] - 59s 59s/step - loss: 0.7011 - accuracy: 0.6000 - val_loss: 0.5982 - val_accuracy: 0.7419\n",
            "Epoch 38/50\n",
            "1/1 [==============================] - 57s 57s/step - loss: 0.7493 - accuracy: 0.5333 - val_loss: 0.6019 - val_accuracy: 0.7419\n",
            "Epoch 39/50\n",
            "1/1 [==============================] - 58s 58s/step - loss: 0.7421 - accuracy: 0.5333 - val_loss: 0.6079 - val_accuracy: 0.7419\n",
            "Epoch 40/50\n",
            "1/1 [==============================] - 33s 33s/step - loss: 0.5926 - accuracy: 0.7500 - val_loss: 0.6134 - val_accuracy: 0.7419\n",
            "Epoch 41/50\n",
            "1/1 [==============================] - 57s 57s/step - loss: 0.5967 - accuracy: 0.7333 - val_loss: 0.6177 - val_accuracy: 0.7419\n",
            "Epoch 42/50\n",
            "1/1 [==============================] - 61s 61s/step - loss: 0.5857 - accuracy: 0.8000 - val_loss: 0.6204 - val_accuracy: 0.7419\n",
            "Epoch 43/50\n",
            "1/1 [==============================] - 57s 57s/step - loss: 0.5883 - accuracy: 0.8000 - val_loss: 0.6216 - val_accuracy: 0.7419\n",
            "Epoch 44/50\n",
            "1/1 [==============================] - 57s 57s/step - loss: 0.6216 - accuracy: 0.7333 - val_loss: 0.6219 - val_accuracy: 0.7419\n",
            "Epoch 45/50\n",
            "1/1 [==============================] - 56s 56s/step - loss: 0.6396 - accuracy: 0.6667 - val_loss: 0.6217 - val_accuracy: 0.7419\n",
            "Epoch 46/50\n",
            "1/1 [==============================] - 57s 57s/step - loss: 0.6248 - accuracy: 0.7333 - val_loss: 0.6207 - val_accuracy: 0.7419\n",
            "Epoch 47/50\n",
            "1/1 [==============================] - 60s 60s/step - loss: 0.7046 - accuracy: 0.5333 - val_loss: 0.6204 - val_accuracy: 0.7419\n",
            "Epoch 48/50\n",
            "1/1 [==============================] - 32s 32s/step - loss: 0.6057 - accuracy: 0.7500 - val_loss: 0.6191 - val_accuracy: 0.7419\n",
            "Epoch 49/50\n",
            "1/1 [==============================] - 56s 56s/step - loss: 0.6135 - accuracy: 0.7333 - val_loss: 0.6172 - val_accuracy: 0.7419\n",
            "Epoch 50/50\n",
            "1/1 [==============================] - 56s 56s/step - loss: 0.5541 - accuracy: 0.8667 - val_loss: 0.6138 - val_accuracy: 0.7419\n"
          ]
        }
      ]
    },
    {
      "cell_type": "code",
      "source": [
        "from tensorflow.keras.models import load_model\n",
        "\n",
        "model.save(\"/content/drive/MyDrive/Drishtivgg19_updated.h5\")"
      ],
      "metadata": {
        "id": "-QGL4Tugr0CS"
      },
      "execution_count": null,
      "outputs": []
    },
    {
      "cell_type": "code",
      "source": [
        "test_loss, test_acc = model.evaluate(test_batches, verbose=1)\n",
        "print(\"\\nTest accuracy:\", test_acc)"
      ],
      "metadata": {
        "colab": {
          "base_uri": "https://localhost:8080/"
        },
        "id": "K-39EKupsOAl",
        "outputId": "b80587c4-f1d3-4cb3-fac8-2372f7420d09"
      },
      "execution_count": null,
      "outputs": [
        {
          "output_type": "stream",
          "name": "stdout",
          "text": [
            "3/3 [==============================] - 24s 6s/step - loss: 0.6138 - accuracy: 0.7419\n",
            "\n",
            "Test accuracy: 0.7419354915618896\n"
          ]
        }
      ]
    },
    {
      "cell_type": "code",
      "source": [
        "from matplotlib import pyplot as plt\n",
        "\n",
        "# plot the loss\n",
        "plt.plot(history.history['loss'], label='train loss')\n",
        "plt.plot(history.history['val_loss'], label='val loss')\n",
        "plt.legend()\n",
        "plt.show()\n",
        "plt.savefig('LossVal_loss')\n",
        "\n",
        "# plot the accuracy\n",
        "plt.plot(history.history['accuracy'], label='train acc')\n",
        "plt.plot(history.history['val_accuracy'], label='val acc')\n",
        "plt.legend()\n",
        "plt.show()\n",
        "plt.savefig('AccVal_acc')"
      ],
      "metadata": {
        "colab": {
          "base_uri": "https://localhost:8080/",
          "height": 530
        },
        "id": "bgXKDoUJsfYR",
        "outputId": "8246ef06-8431-4245-fcdd-7e3a0cf31f75"
      },
      "execution_count": null,
      "outputs": [
        {
          "output_type": "display_data",
          "data": {
            "text/plain": [
              "<Figure size 432x288 with 1 Axes>"
            ],
            "image/png": "[encoded data removed]"
          },
          "metadata": {
            "needs_background": "light"
          }
        },
        {
          "output_type": "display_data",
          "data": {
            "text/plain": [
              "<Figure size 432x288 with 1 Axes>"
            ],
            "image/png": "[encoded data removed]"
          },
          "metadata": {
            "needs_background": "light"
          }
        },
        {
          "output_type": "display_data",
          "data": {
            "text/plain": [
              "<Figure size 432x288 with 0 Axes>"
            ]
          },
          "metadata": {}
        }
      ]
    },
    {
      "cell_type": "code",
      "source": [
        "import matplotlib.pyplot as plt\n",
        "import numpy\n",
        "from sklearn import metrics\n",
        "\n",
        "actual = numpy.random.binomial(1,.9,size = 1000)\n",
        "predicted = numpy.random.binomial(1,.9,size = 1000)\n",
        "\n",
        "confusion_matrix = metrics.confusion_matrix(actual, predicted)\n",
        "\n",
        "cm_display = metrics.ConfusionMatrixDisplay(confusion_matrix = confusion_matrix, display_labels = [False, True])\n",
        "\n",
        "cm_display.plot()\n",
        "plt.show()"
      ],
      "metadata": {
        "id": "3x_Al0LQ_-2o",
        "outputId": "ea963c1b-fb78-4e57-9524-78ab234f7723",
        "colab": {
          "base_uri": "https://localhost:8080/",
          "height": 282
        }
      },
      "execution_count": null,
      "outputs": [
        {
          "output_type": "display_data",
          "data": {
            "text/plain": [
              "<Figure size 432x288 with 2 Axes>"
            ],
            "image/png": "[encoded data removed]"
          },
          "metadata": {
            "needs_background": "light"
          }
        }
      ]
    }
  ]
}